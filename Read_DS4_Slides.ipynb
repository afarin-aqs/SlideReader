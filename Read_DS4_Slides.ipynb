{
  "cells": [
    {
      "cell_type": "code",
      "execution_count": 1,
      "id": "0",
      "metadata": {
        "id": "0",
        "outputId": "d9d75c11-755e-41fa-b6eb-c65296679140",
        "colab": {
          "base_uri": "https://localhost:8080/",
          "height": 383
        }
      },
      "outputs": [
        {
          "output_type": "error",
          "ename": "ModuleNotFoundError",
          "evalue": "No module named 'Classes'",
          "traceback": [
            "\u001b[0;31m---------------------------------------------------------------------------\u001b[0m",
            "\u001b[0;31mModuleNotFoundError\u001b[0m                       Traceback (most recent call last)",
            "\u001b[0;32m<ipython-input-1-9976c7d4316d>\u001b[0m in \u001b[0;36m<cell line: 0>\u001b[0;34m()\u001b[0m\n\u001b[1;32m      3\u001b[0m \u001b[0;32mfrom\u001b[0m \u001b[0mimportlib\u001b[0m \u001b[0;32mimport\u001b[0m \u001b[0mreload\u001b[0m\u001b[0;34m\u001b[0m\u001b[0;34m\u001b[0m\u001b[0m\n\u001b[1;32m      4\u001b[0m \u001b[0;32mfrom\u001b[0m \u001b[0mcopy\u001b[0m \u001b[0;32mimport\u001b[0m \u001b[0mdeepcopy\u001b[0m\u001b[0;34m\u001b[0m\u001b[0;34m\u001b[0m\u001b[0m\n\u001b[0;32m----> 5\u001b[0;31m \u001b[0;32mfrom\u001b[0m \u001b[0mClasses\u001b[0m \u001b[0;32mimport\u001b[0m \u001b[0mClusterObj\u001b[0m\u001b[0;34m,\u001b[0m \u001b[0mBlockObj\u001b[0m\u001b[0;34m,\u001b[0m \u001b[0mScanDataObj\u001b[0m\u001b[0;34m\u001b[0m\u001b[0;34m\u001b[0m\u001b[0m\n\u001b[0m\u001b[1;32m      6\u001b[0m \u001b[0;32mfrom\u001b[0m \u001b[0mFunctions\u001b[0m \u001b[0;32mimport\u001b[0m \u001b[0mCommonFunctions\u001b[0m\u001b[0;34m,\u001b[0m \u001b[0mClassesFunctions\u001b[0m\u001b[0;34m\u001b[0m\u001b[0;34m\u001b[0m\u001b[0m\n\u001b[1;32m      7\u001b[0m \u001b[0;32mimport\u001b[0m \u001b[0mpickle\u001b[0m\u001b[0;34m\u001b[0m\u001b[0;34m\u001b[0m\u001b[0m\n",
            "\u001b[0;31mModuleNotFoundError\u001b[0m: No module named 'Classes'",
            "",
            "\u001b[0;31m---------------------------------------------------------------------------\u001b[0;32m\nNOTE: If your import is failing due to a missing package, you can\nmanually install dependencies using either !pip or !apt.\n\nTo view examples of installing some common dependencies, click the\n\"Open Examples\" button below.\n\u001b[0;31m---------------------------------------------------------------------------\u001b[0m\n"
          ],
          "errorDetails": {
            "actions": [
              {
                "action": "open_url",
                "actionText": "Open Examples",
                "url": "/notebooks/snippets/importing_libraries.ipynb"
              }
            ]
          }
        }
      ],
      "source": [
        "# Block 1\n",
        "# library imports\n",
        "from importlib import reload\n",
        "from copy import deepcopy\n",
        "from Classes import ClusterObj, BlockObj, ScanDataObj\n",
        "from Functions import CommonFunctions, ClassesFunctions\n",
        "import pickle\n",
        "import pandas as pd\n",
        "import re\n",
        "import numpy as np\n",
        "reload(CommonFunctions)\n",
        "reload(ClassesFunctions)\n",
        "reload(ClusterObj)\n",
        "reload(BlockObj)\n",
        "reload(ScanDataObj)\n",
        "\n",
        "print('Done!')\n"
      ]
    },
    {
      "cell_type": "code",
      "source": [],
      "metadata": {
        "id": "fWOc4oL_Qt_M"
      },
      "id": "fWOc4oL_Qt_M",
      "execution_count": null,
      "outputs": []
    },
    {
      "cell_type": "code",
      "source": [
        "from google.colab import drive\n",
        "drive.mount('/content/drive')"
      ],
      "metadata": {
        "id": "vF9UU1OJQyV9",
        "outputId": "7860d8e9-191a-4381-98df-33d07b71440b",
        "colab": {
          "base_uri": "https://localhost:8080/",
          "height": 304
        }
      },
      "id": "vF9UU1OJQyV9",
      "execution_count": 2,
      "outputs": [
        {
          "output_type": "error",
          "ename": "ValueError",
          "evalue": "mount failed",
          "traceback": [
            "\u001b[0;31m---------------------------------------------------------------------------\u001b[0m",
            "\u001b[0;31mValueError\u001b[0m                                Traceback (most recent call last)",
            "\u001b[0;32m<ipython-input-2-d5df0069828e>\u001b[0m in \u001b[0;36m<cell line: 0>\u001b[0;34m()\u001b[0m\n\u001b[1;32m      1\u001b[0m \u001b[0;32mfrom\u001b[0m \u001b[0mgoogle\u001b[0m\u001b[0;34m.\u001b[0m\u001b[0mcolab\u001b[0m \u001b[0;32mimport\u001b[0m \u001b[0mdrive\u001b[0m\u001b[0;34m\u001b[0m\u001b[0;34m\u001b[0m\u001b[0m\n\u001b[0;32m----> 2\u001b[0;31m \u001b[0mdrive\u001b[0m\u001b[0;34m.\u001b[0m\u001b[0mmount\u001b[0m\u001b[0;34m(\u001b[0m\u001b[0;34m'/content/drive'\u001b[0m\u001b[0;34m)\u001b[0m\u001b[0;34m\u001b[0m\u001b[0;34m\u001b[0m\u001b[0m\n\u001b[0m",
            "\u001b[0;32m/usr/local/lib/python3.11/dist-packages/google/colab/drive.py\u001b[0m in \u001b[0;36mmount\u001b[0;34m(mountpoint, force_remount, timeout_ms, readonly)\u001b[0m\n\u001b[1;32m     98\u001b[0m \u001b[0;32mdef\u001b[0m \u001b[0mmount\u001b[0m\u001b[0;34m(\u001b[0m\u001b[0mmountpoint\u001b[0m\u001b[0;34m,\u001b[0m \u001b[0mforce_remount\u001b[0m\u001b[0;34m=\u001b[0m\u001b[0;32mFalse\u001b[0m\u001b[0;34m,\u001b[0m \u001b[0mtimeout_ms\u001b[0m\u001b[0;34m=\u001b[0m\u001b[0;36m120000\u001b[0m\u001b[0;34m,\u001b[0m \u001b[0mreadonly\u001b[0m\u001b[0;34m=\u001b[0m\u001b[0;32mFalse\u001b[0m\u001b[0;34m)\u001b[0m\u001b[0;34m:\u001b[0m\u001b[0;34m\u001b[0m\u001b[0;34m\u001b[0m\u001b[0m\n\u001b[1;32m     99\u001b[0m   \u001b[0;34m\"\"\"Mount your Google Drive at the specified mountpoint path.\"\"\"\u001b[0m\u001b[0;34m\u001b[0m\u001b[0;34m\u001b[0m\u001b[0m\n\u001b[0;32m--> 100\u001b[0;31m   return _mount(\n\u001b[0m\u001b[1;32m    101\u001b[0m       \u001b[0mmountpoint\u001b[0m\u001b[0;34m,\u001b[0m\u001b[0;34m\u001b[0m\u001b[0;34m\u001b[0m\u001b[0m\n\u001b[1;32m    102\u001b[0m       \u001b[0mforce_remount\u001b[0m\u001b[0;34m=\u001b[0m\u001b[0mforce_remount\u001b[0m\u001b[0;34m,\u001b[0m\u001b[0;34m\u001b[0m\u001b[0;34m\u001b[0m\u001b[0m\n",
            "\u001b[0;32m/usr/local/lib/python3.11/dist-packages/google/colab/drive.py\u001b[0m in \u001b[0;36m_mount\u001b[0;34m(mountpoint, force_remount, timeout_ms, ephemeral, readonly)\u001b[0m\n\u001b[1;32m    277\u001b[0m             \u001b[0;34m'https://research.google.com/colaboratory/faq.html#drive-timeout'\u001b[0m\u001b[0;34m\u001b[0m\u001b[0;34m\u001b[0m\u001b[0m\n\u001b[1;32m    278\u001b[0m         )\n\u001b[0;32m--> 279\u001b[0;31m       \u001b[0;32mraise\u001b[0m \u001b[0mValueError\u001b[0m\u001b[0;34m(\u001b[0m\u001b[0;34m'mount failed'\u001b[0m \u001b[0;34m+\u001b[0m \u001b[0mextra_reason\u001b[0m\u001b[0;34m)\u001b[0m\u001b[0;34m\u001b[0m\u001b[0;34m\u001b[0m\u001b[0m\n\u001b[0m\u001b[1;32m    280\u001b[0m     \u001b[0;32melif\u001b[0m \u001b[0mcase\u001b[0m \u001b[0;34m==\u001b[0m \u001b[0;36m4\u001b[0m\u001b[0;34m:\u001b[0m\u001b[0;34m\u001b[0m\u001b[0;34m\u001b[0m\u001b[0m\n\u001b[1;32m    281\u001b[0m       \u001b[0;31m# Terminate the DriveFS binary before killing bash.\u001b[0m\u001b[0;34m\u001b[0m\u001b[0;34m\u001b[0m\u001b[0m\n",
            "\u001b[0;31mValueError\u001b[0m: mount failed"
          ]
        }
      ]
    },
    {
      "cell_type": "code",
      "source": [],
      "metadata": {
        "id": "BF4HeHW-Qy_M"
      },
      "id": "BF4HeHW-Qy_M",
      "execution_count": null,
      "outputs": []
    },
    {
      "cell_type": "code",
      "execution_count": null,
      "id": "1",
      "metadata": {
        "id": "1"
      },
      "outputs": [],
      "source": [
        "# Block 2\n",
        "# path setup\n",
        "path = \"/Users/janieqing/Downloads/Chilkoti Lab/Data\"\n",
        "input_file_name = '05062025_P0428_OF_first_slide_N5 3'\n",
        "image, scaled_image = CommonFunctions.load_image(file_name=input_file_name, path=path, debug=False, plot_images=False, rotation=0)\n",
        "# print(f'Loaded Image \"{input_file_name}\" {image.shape}')\n"
      ]
    },
    {
      "cell_type": "code",
      "execution_count": null,
      "id": "2",
      "metadata": {
        "id": "2"
      },
      "outputs": [],
      "source": [
        "# Block 3\n",
        "# load the saved work, or start over:\n",
        "scan_data = ClassesFunctions.read_scan_data_from_pickle(\n",
        "    file_name=input_file_name,\n",
        "    path=path,\n",
        "    start_over=0, # if True -> ignores the pickle, and returns None for initiating with the following functions\n",
        "    plot_results=False,\n",
        "    debug=False\n",
        ")\n",
        "\n",
        "# scan_data = []\n",
        "if not scan_data:\n",
        "    start_over = True\n",
        "else:\n",
        "    print(f'Successfully loaded scan_data for \"{input_file_name}\"')\n",
        "    start_over = False\n",
        "\n"
      ]
    },
    {
      "cell_type": "code",
      "execution_count": null,
      "id": "3",
      "metadata": {
        "id": "3"
      },
      "outputs": [],
      "source": [
        "# todo: add a function for parameter tuning...\n",
        "start_over"
      ]
    },
    {
      "cell_type": "code",
      "execution_count": null,
      "id": "4",
      "metadata": {
        "id": "4"
      },
      "outputs": [],
      "source": [
        "# Block 4\n",
        "## Setting the parameters:\n",
        "# start_over = True\n",
        "do_test = 1\n",
        "input_param_dict = {\n",
        "    'scan_size': 5, 'assay': 'OF', 'cAb_names': [],\n",
        "    'blur_kernel_size': 9, 'contrast_thr': 100, # preprocessing\n",
        "    'canny_edge_thr1': 180, 'canny_edge_thr2':290, 'dp': 2, 'param1': 11, 'param2':22, 'minRadius': 9, 'maxRadius': 18, # circle finding\n",
        "    'eps':500, 'x_power': 3, 'y_power': 5, 'min_samples': 3 # clustering\n",
        "}\n",
        "\n",
        "# reset = True/False to overwrite start_over\n",
        "if start_over:\n",
        "    ScanDataObj.init_or_reset_params(file_name=input_file_name, input_param_dict=input_param_dict, debug=False)\n",
        "    if do_test:\n",
        "        if input_param_dict['assay'] == 'SD4':\n",
        "            test_image = deepcopy(image)[1000:1700,500:2500] #(y,x) -> change if u want!\n",
        "        else:\n",
        "            test_image = deepcopy(image)[500:1400,50:2600]\n",
        "        # checkme takes too long\n",
        "        # CommonFunctions.optimize_the_params(file_name=input_file_name, input_image=test_image, how_many_times=1, plot_images=False, debug=False)\n",
        "        CommonFunctions.test_current_parameters(input_image=test_image, file_name=input_file_name, fig_size=[12,7], debug=False)"
      ]
    },
    {
      "cell_type": "code",
      "execution_count": null,
      "id": "5",
      "metadata": {
        "id": "5"
      },
      "outputs": [],
      "source": [
        "scan_data = ScanDataObj.get_scan_data(file_name=input_file_name)"
      ]
    },
    {
      "cell_type": "code",
      "execution_count": null,
      "id": "6",
      "metadata": {
        "id": "6"
      },
      "outputs": [],
      "source": [
        "# Block 5\n",
        "# start_over=True\n",
        "if start_over or not scan_data.sorted_circles:\n",
        "    CommonFunctions.do_initial_circle_finding(file_name=input_file_name, debug=False, plot_images=False)\n",
        "    ClassesFunctions.save_current_data_obj(file_name=input_file_name, path=path)\n",
        "# else:\n",
        "#     sorted_circles, predicted_clusters_ids = [],[]"
      ]
    },
    {
      "cell_type": "code",
      "execution_count": null,
      "id": "7",
      "metadata": {
        "id": "7"
      },
      "outputs": [],
      "source": [
        "# start_over = True\n",
        "test_block_sizes = 1\n",
        "\n",
        "if start_over:\n",
        "    ClassesFunctions.init_blocks_dict(\n",
        "        file_name=input_file_name, debug=False, plot_blocks=False,\n",
        "        # debug_block_ids=['r0c0','r0c1','r0c2','r0c3'],\n",
        "        init_offset=[0,0],\n",
        "        block_size_adjustment=0,\n",
        "        block_distance_adjustment=[0,-20],\n",
        "    )\n",
        "    if test_block_sizes:\n",
        "        ClassesFunctions.plot_blocks_on_image(file_name=input_file_name, debug=False)\n",
        "    # ClassesFunctions.save_current_data_obj(file_name=input_file_name, path=path)"
      ]
    },
    {
      "cell_type": "code",
      "execution_count": null,
      "id": "8",
      "metadata": {
        "id": "8"
      },
      "outputs": [],
      "source": [
        "# ClassesFunctions.save_current_data_obj(file_name=input_file_name, path=path)"
      ]
    },
    {
      "cell_type": "code",
      "execution_count": null,
      "id": "9",
      "metadata": {
        "id": "9"
      },
      "outputs": [],
      "source": [
        "# start_over = True\n",
        "if start_over:\n",
        "    ClassesFunctions.init_clusters_dict(scan_data.sorted_circles, scan_data.predicted_clusters_ids, input_file_name,\n",
        "                                        optimize_spots_coords=1, debug=0, debug_clusters_ids=[])\n",
        "    ClassesFunctions.save_current_data_obj(file_name=input_file_name, path=path)"
      ]
    },
    {
      "cell_type": "code",
      "execution_count": null,
      "id": "10",
      "metadata": {
        "id": "10"
      },
      "outputs": [],
      "source": [
        "# connect clusters and blocks (and final initiation stuff)\n",
        "if start_over:\n",
        "    ClassesFunctions.connect_clusters_to_blocks(file_name=input_file_name,debug=False,debug_clusters=[],debug_blocks=[],plot_images=False,)\n",
        "    ClassesFunctions.save_current_data_obj(file_name=input_file_name, path=path)"
      ]
    },
    {
      "cell_type": "code",
      "execution_count": null,
      "id": "11",
      "metadata": {
        "id": "11"
      },
      "outputs": [],
      "source": [
        "# test_block.__dict__"
      ]
    },
    {
      "cell_type": "code",
      "execution_count": null,
      "id": "12",
      "metadata": {
        "id": "12"
      },
      "outputs": [],
      "source": [
        "# scan_data.get_cluster(838)"
      ]
    },
    {
      "cell_type": "code",
      "execution_count": null,
      "id": "13",
      "metadata": {
        "id": "13"
      },
      "outputs": [],
      "source": [
        "# Block 6\n",
        "## Making the first template of cluster patterns\n",
        "start_over=True\n",
        "\n",
        "test_ind = f'r1c2'\n",
        "test_block: BlockObj.Block = scan_data.get_block(test_ind)\n",
        "if not start_over:\n",
        "    test_block.plot_block(fig_size=[6, 6], debug=False, with_border=True, crop_to_mask=True)\n",
        "else:\n",
        "    scan_data = ScanDataObj.get_scan_data(file_name=input_file_name)\n",
        "    manual_spot_edit_dict = {\n",
        "        ### EDITS HERE - most important/biggest edits will be made in this block\n",
        "\n",
        "        # For - 05062025_P0428_OF_first_slide_N5\n",
        "\n",
        "        18: ['move all 100 l', 'add 2 to r', 'change_r spot0 r-2', 'change_r spot1 r-5.2', 'move spot1 2 u', 'change_r spot2 r-4',\n",
        "             'change_r spot3 r-4', 'move spot3 2 d', 'change_r spot4 r-4', 'move spot4 3 d'],\n",
        "        21: ['add 2 to r', 'change_r spot2 r-3', 'change_r spot3 r-3', 'change_r spot4 r-3', 'move spot4 2 r'],\n",
        "        24: ['move spot2 3 d','add 1 cluster above u = 1'],\n",
        "        1238: ['move all 75 u', 'del spot5', 'change_r spot0 r-2', 'change_r spot1 r-2', 'move spot1 2 d', 'change_r spot2 r-2'],\n",
        "        28: ['change_r spot0 r-2','move spot0 2 r','change_r spot1 r-2', 'add 1 cluster above u = 1'],\n",
        "        1239: ['move all 75 u, 45 l', 'add 1 to r', 'move spot4 10 l, 4 d'],\n",
        "        27: ['change_r spot4 r-2', 'change_r spot5 r-2', 'move spot5 5 l', 'add 2 cluster below d = 1'],\n",
        "        1240: ['del spot5', 'move all 75 d'],\n",
        "        1241: ['move all 150 d'],\n",
        "        31: ['add 1 cluster below d = 1'],\n",
        "        1242: ['del spot5', 'move all 50 r, 75 d', 'move spot4 7 d', 'add 1 cluster below d = 1'],\n",
        "        1243: ['move all 75 d']\n",
        "    }\n",
        "    print(test_block.clusters_ids_list)\n",
        "    test_block.edit_block(debug=0, plot_before_after=False, overwrite=True,with_restore=True,\n",
        "                          manual_spot_edit_dict=manual_spot_edit_dict)\n",
        "    test_mask = test_block.create_block_mask(debug=False, plot_images=False)\n",
        "    test_block.plot_block(fig_size=[8,8], debug=False, with_border=True, crop_to_mask=False)\n",
        "\n",
        "N = len(test_block.clusters_ids_list)\n",
        "print(f'There are {N} clusters in total.')\n"
      ]
    },
    {
      "cell_type": "code",
      "execution_count": null,
      "id": "14",
      "metadata": {
        "id": "14"
      },
      "outputs": [],
      "source": [
        "# generating the list to edit each row at the same time\n",
        "generate_list = lambda n: [f'r{n}c{i}' for i in range(scan_data.block_ncol)]\n",
        "rows_names_list = []\n",
        "for r in range(scan_data.block_nrow):\n",
        "    rows_names_list.append(generate_list(r))\n",
        "\n",
        "\n",
        "\n",
        "fig_size = [20,10] if scan_data.assay == 'SD4' else [15,15]\n",
        "print(f'start_over is {start_over}')\n"
      ]
    },
    {
      "cell_type": "code",
      "execution_count": null,
      "id": "15",
      "metadata": {
        "id": "15"
      },
      "outputs": [],
      "source": [
        "# ScanDataObj.get_block_image(\n",
        "#             file_name=test_block.file_name,\n",
        "#             block_id=test_block.block_id,\n",
        "#             image_tag='block_mask'\n",
        "#         )\n",
        "plot_figures = False\n",
        "ClassesFunctions.save_current_data_obj(file_name=input_file_name, path=path)"
      ]
    },
    {
      "cell_type": "code",
      "execution_count": null,
      "id": "16",
      "metadata": {
        "id": "16"
      },
      "outputs": [],
      "source": [
        "# Block 7\n",
        "# row 0\n",
        "r = 0\n",
        "current_list = rows_names_list[r]\n",
        "print(current_list)\n",
        "\n",
        "# start_over = True\n",
        "\n",
        "if not start_over:\n",
        "    # ClassesFunctions.save_current_data_obj(file_name=input_file_name, path=path)\n",
        "    ClassesFunctions.do_final_results_plot(file_name=input_file_name, block_ids_list=current_list, fig_size=fig_size, do_plot=plot_figures)\n",
        "\n",
        "else:\n",
        "    ClassesFunctions.edit_multiple_blocks(\n",
        "        current_list, file_name=input_file_name, init_template_id=test_ind, correct_N=N,\n",
        "        debug=0, debug_blocks=[''], debug_clusters=[], fig_size=fig_size,\n",
        "        move_whole_block_match={'r0c0':[0,0],'r0c1':[0,0],'r0c2':[0,0],'r0c3':[0,0]},\n",
        "        # redo_circle_finding_for_blocks_or_clusters=['r0c3'],\n",
        "        preprocess_params=scan_data.preprocess_params, plot_before_after=0,\n",
        "        manual_spot_edit_dict={\n",
        "            ##### EDITS HERE\n",
        "\n",
        "            #r0c0\n",
        "            900: ['move spot0 2 r', 'move spot2 4 d', 'move spot3 2 r', 'move spot4 2 l'],\n",
        "            907: ['move spot4 6 u'],\n",
        "            908: ['move spot4 6 u'],\n",
        "            5: ['move spot5 6 r', 'move spot2 2 r'],\n",
        "            903: ['change_r spot0 r-2', 'move spot0 2 u, 2 r', 'move spot4 3 r'],\n",
        "            3: ['move spot1 2 u', 'move spot2 2 r'],\n",
        "\n",
        "            #r0c1\n",
        "            910: ['change_r all r-2','move spot2 2 d'],\n",
        "            909: ['change_r all r-2', 'move spot0 2 r'],\n",
        "            914: ['change_r all r-2'],\n",
        "            911: ['change_r all r-2'],\n",
        "            915: ['move spot3 4 l','move spot2 4 l', 'move spot1 4 l'],\n",
        "\n",
        "            #r0c2\n",
        "            918: ['change_r all r-3', 'move spot2 2 d, 2 r'],\n",
        "            922: ['change_r all r-3', 'move spot0 2 r', 'move spot1 5 r, 5 d'],\n",
        "            917: ['change_r all r-3'],\n",
        "            919: ['change_r all r-3'],\n",
        "            4: ['change_r all r-2'],\n",
        "            923: ['move spot3 5 l'],\n",
        "            926: ['move spot4 8 u, 1 l'],\n",
        "            13: ['change_r spot0 r-2', 'move spot0 2 r'],\n",
        "            920: ['move spot1 4 r'],\n",
        "            927: ['move spot1 3 l']\n",
        "        })"
      ]
    },
    {
      "cell_type": "code",
      "execution_count": null,
      "id": "17",
      "metadata": {
        "id": "17"
      },
      "outputs": [],
      "source": [
        "## Block 8\n",
        "# row 1\n",
        "r = 1\n",
        "current_list = rows_names_list[r]\n",
        "print(current_list)\n",
        "\n",
        "# start_over = True\n",
        "\n",
        "if not start_over:\n",
        "    # ClassesFunctions.save_current_data_obj(file_name=input_file_name, path=path)\n",
        "    ClassesFunctions.do_final_results_plot(file_name=input_file_name, block_ids_list=current_list, fig_size=fig_size, do_plot=plot_figures)\n",
        "\n",
        "else:\n",
        "    ClassesFunctions.edit_multiple_blocks(\n",
        "        current_list, file_name=input_file_name, init_template_id=test_ind, correct_N=N,\n",
        "        debug=0, debug_blocks=[''], debug_clusters=[], fig_size=fig_size,\n",
        "        move_whole_block_match={f'r{r}c0':[0,0],f'r{r}c1':[0,0],f'r{r}c2':[0,0],f'r{r}c3':[0,0]},\n",
        "        # redo_circle_finding_for_blocks_or_clusters=['r0c3'],\n",
        "        preprocess_params=scan_data.preprocess_params, plot_before_after=0,\n",
        "        manual_spot_edit_dict={\n",
        "            #r1c0\n",
        "            932: ['move all 82 u', 'move spot4 5 r'],\n",
        "            936: ['move all 82 u'],\n",
        "            929: ['move all 82 u', 'move spot5 3 d'],\n",
        "            931: ['move all 82 u'],\n",
        "            937: ['move all 82 u'],\n",
        "            938: ['move all 82 u'],\n",
        "            927: ['move all 82 u'],\n",
        "            928: ['move all 82 u'],\n",
        "            930: ['move all 82 u'],\n",
        "            933: ['move all 82 u'],\n",
        "            934: ['move all 82 u'],\n",
        "            939: ['move all 82 u'],\n",
        "            940: ['move all 82 u'],\n",
        "            935: ['move all 82 u'],\n",
        "\n",
        "            #r1c1\n",
        "\n",
        "            #r1c2\n",
        "        })"
      ]
    },
    {
      "cell_type": "code",
      "execution_count": null,
      "id": "18",
      "metadata": {
        "id": "18"
      },
      "outputs": [],
      "source": [
        "# Block 9\n",
        "# row 2\n",
        "r = 2\n",
        "current_list = rows_names_list[r]\n",
        "print(current_list)\n",
        "\n",
        "# start_over = True\n",
        "\n",
        "if not start_over:\n",
        "    # ClassesFunctions.save_current_data_obj(file_name=input_file_name, path=path)\n",
        "    ClassesFunctions.do_final_results_plot(file_name=input_file_name, block_ids_list=current_list, fig_size=fig_size, do_plot=plot_figures)\n",
        "\n",
        "else:\n",
        "    ClassesFunctions.edit_multiple_blocks(\n",
        "        current_list, file_name=input_file_name, init_template_id=test_ind, correct_N=N,\n",
        "        debug=0, debug_blocks=[''], debug_clusters=[], fig_size=fig_size,\n",
        "        move_whole_block_match={f'r{r}c0':[0,0],f'r{r}c1':[0,0],f'r{r}c2':[0,0],f'r{r}c3':[0,0]},\n",
        "        # redo_circle_finding_for_blocks_or_clusters=['r0c3'],\n",
        "        preprocess_params=scan_data.preprocess_params, plot_before_after=0,\n",
        "        manual_spot_edit_dict={\n",
        "        })"
      ]
    },
    {
      "cell_type": "code",
      "execution_count": null,
      "id": "19",
      "metadata": {
        "id": "19"
      },
      "outputs": [],
      "source": [
        "# Block 10\n",
        "# row 3\n",
        "r = 3\n",
        "current_list = rows_names_list[r]\n",
        "print(current_list)\n",
        "\n",
        "# start_over = True\n",
        "\n",
        "if not start_over:\n",
        "    # ClassesFunctions.save_current_data_obj(file_name=input_file_name, path=path)\n",
        "    ClassesFunctions.do_final_results_plot(file_name=input_file_name, block_ids_list=current_list, do_plot=1)\n",
        "\n",
        "else:\n",
        "    ClassesFunctions.edit_multiple_blocks(\n",
        "        current_list, file_name=input_file_name, init_template_id=test_ind, correct_N=N,\n",
        "        debug=0, debug_blocks=[''], debug_clusters=[], fig_size=fig_size,\n",
        "        move_whole_block_match={f'r{r}c0':[0,0],f'r{r}c1':[0,0],f'r{r}c2':[0,0],f'r{r}c3':[0,0]},\n",
        "        preprocess_params=scan_data.preprocess_params, plot_before_after=0,\n",
        "        manual_spot_edit_dict={\n",
        "            #r3c0\n",
        "            #r3c1\n",
        "            #r3c2\n",
        "            70: ['change_r spot3 r-3','move spot3 3 l'],\n",
        "            75: ['change_r spot4 r-3', 'move spot4 4 l'],\n",
        "            85: ['move spot3 5 l, 2 d', 'change_r spot3 r-2', 'move spot2 2 r, 2 d', 'change_r spot2 r-2'],\n",
        "            972: ['move spot4 4 u, 3 l']\n",
        "        })\n"
      ]
    },
    {
      "cell_type": "code",
      "execution_count": null,
      "id": "20",
      "metadata": {
        "id": "20"
      },
      "outputs": [],
      "source": [
        "# Block 11\n",
        "# row 4\n",
        "r = 4\n",
        "current_list = rows_names_list[r]\n",
        "print(current_list)\n",
        "# start_over = True\n",
        "\n",
        "if not start_over:\n",
        "    # ClassesFunctions.save_current_data_obj(file_name=input_file_name, path=path)\n",
        "    ClassesFunctions.do_final_results_plot(file_name=input_file_name, block_ids_list=current_list, fig_size=fig_size, do_plot=plot_figures)\n",
        "\n",
        "else:\n",
        "    ClassesFunctions.edit_multiple_blocks(\n",
        "        current_list, file_name=input_file_name, init_template_id=test_ind, correct_N=N,\n",
        "        debug=0, debug_blocks=[''], debug_clusters=[], fig_size=fig_size,\n",
        "        move_whole_block_match={f'r{r}c0':[0,0],f'r{r}c1':[0,0],f'r{r}c2':[0,0],f'r{r}c3':[0,0]},\n",
        "        # redo_circle_finding_for_blocks_or_clusters=['r0c3'],\n",
        "        preprocess_params=scan_data.preprocess_params, plot_before_after=0,\n",
        "        manual_spot_edit_dict={\n",
        "        })\n"
      ]
    },
    {
      "cell_type": "code",
      "execution_count": null,
      "id": "21",
      "metadata": {
        "id": "21"
      },
      "outputs": [],
      "source": [
        "# Block 12\n",
        "# row 5\n",
        "r = 5\n",
        "current_list = rows_names_list[r]\n",
        "print(current_list)\n",
        "\n",
        "# start_over = True\n",
        "\n",
        "if not start_over:\n",
        "    # ClassesFunctions.save_current_data_obj(file_name=input_file_name, path=path)\n",
        "    ClassesFunctions.do_final_results_plot(file_name=input_file_name, block_ids_list=current_list, fig_size=fig_size, do_plot=plot_figures)\n",
        "\n",
        "else:\n",
        "    ClassesFunctions.edit_multiple_blocks(\n",
        "        current_list, file_name=input_file_name, init_template_id=test_ind, correct_N=N,\n",
        "        debug=0, debug_blocks=[''], debug_clusters=[], fig_size=fig_size,\n",
        "        # move_whole_block_match={f'r{r}c0':[0,0],f'r{r}c1':[0,0],f'r{r}c2':[-45,10],f'r{r}c3':[0,0]},\n",
        "        # redo_circle_finding_for_blocks_or_clusters=['r0c3'],\n",
        "        preprocess_params=scan_data.preprocess_params, plot_before_after=0,\n",
        "        manual_spot_edit_dict={\n",
        "        })\n"
      ]
    },
    {
      "cell_type": "code",
      "execution_count": null,
      "id": "22",
      "metadata": {
        "id": "22"
      },
      "outputs": [],
      "source": [
        "# Block 13\n",
        "# row 6\n",
        "r = 6\n",
        "current_list = rows_names_list[r]\n",
        "print(current_list)\n",
        "\n",
        "# start_over = True\n",
        "\n",
        "if not start_over:\n",
        "    # ClassesFunctions.save_current_data_obj(file_name=input_file_name, path=path)\n",
        "    ClassesFunctions.do_final_results_plot(file_name=input_file_name, block_ids_list=current_list, fig_size=fig_size, do_plot=plot_figures)\n",
        "\n",
        "else:\n",
        "    ClassesFunctions.edit_multiple_blocks(\n",
        "        current_list, file_name=input_file_name, init_template_id=test_ind, correct_N=N,\n",
        "        debug=0, debug_blocks=[''], debug_clusters=[], fig_size=fig_size,\n",
        "        move_whole_block_match={f'r{r}c0':[0,0],f'r{r}c1':[0,0],f'r{r}c2':[0,0],f'r{r}c3':[0,0]},\n",
        "        # redo_circle_finding_for_blocks_or_clusters=['r0c3'],\n",
        "        preprocess_params=scan_data.preprocess_params, plot_before_after=0,\n",
        "        manual_spot_edit_dict={\n",
        "        })\n"
      ]
    },
    {
      "cell_type": "code",
      "execution_count": null,
      "id": "23",
      "metadata": {
        "id": "23"
      },
      "outputs": [],
      "source": [
        "##### row 7\n",
        "r = 7\n",
        "current_list = rows_names_list[r]\n",
        "print(current_list)\n",
        "\n",
        "# start_over = True\n",
        "\n",
        "if not start_over:\n",
        "    # ClassesFunctions.save_current_data_obj(file_name=input_file_name, path=path)\n",
        "    ClassesFunctions.do_final_results_plot(file_name=input_file_name, block_ids_list=current_list, fig_size=fig_size, do_plot=plot_figures)\n",
        "\n",
        "else:\n",
        "    ClassesFunctions.edit_multiple_blocks(\n",
        "        current_list, file_name=input_file_name, init_template_id=test_ind, correct_N=N,\n",
        "        debug=0, debug_blocks=[''], debug_clusters=[], fig_size=fig_size,\n",
        "        move_whole_block_match={f'r{r}c0':[0,0],f'r{r}c1':[0,5],f'r{r}c2':[-5,5],f'r{r}c3':[0,0]},\n",
        "        # redo_circle_finding_for_blocks_or_clusters=['r0c3'],\n",
        "        preprocess_params=scan_data.preprocess_params, plot_before_after=0,\n",
        "        manual_spot_edit_dict={\n",
        "            1081: ['move all 2 u, 3 l','change_r all r-3', 'move spot4 3 l','move spot5 6 l'],\n",
        "            1083: ['change_r all r-3','move spot2 4 l','move spot3 5 l','move spot4 7 l', 'move spot5 6 l'],\n",
        "        })\n"
      ]
    },
    {
      "cell_type": "code",
      "execution_count": null,
      "id": "24",
      "metadata": {
        "id": "24"
      },
      "outputs": [],
      "source": [
        "##### row 8\n",
        "r = 8\n",
        "if scan_data.assay == 'SD4':\n",
        "    current_list = rows_names_list[r]\n",
        "else:\n",
        "    current_list = []\n",
        "\n",
        "print(current_list)\n",
        "\n",
        "# start_over = True\n",
        "\n",
        "if not start_over:\n",
        "    # ClassesFunctions.save_current_data_obj(file_name=input_file_name, path=path)\n",
        "    ClassesFunctions.do_final_results_plot(file_name=input_file_name, block_ids_list=current_list, fig_size=fig_size, do_plot=plot_figures)\n",
        "\n",
        "else:\n",
        "    ClassesFunctions.edit_multiple_blocks(\n",
        "        current_list, file_name=input_file_name, init_template_id=test_ind, correct_N=N,\n",
        "        debug=0, debug_blocks=[''], debug_clusters=[], fig_size=fig_size,\n",
        "        # move_whole_block_match={f'r{r}c0': [-50, 0], f'r{r}c1': [-50, 0], f'r{r}c2': [-50, 0], f'r{r}c3': [-50, 0]},\n",
        "        # redo_circle_finding_for_blocks_or_clusters=['r0c3'],\n",
        "        preprocess_params=scan_data.preprocess_params, plot_before_after=0,\n",
        "        manual_spot_edit_dict={\n",
        "            386:['del'], 393:['del'], 402:['del'], 394:['del spot0'], 388:['move spot-1 10 r, 6 u']\n",
        "        })\n"
      ]
    },
    {
      "cell_type": "code",
      "execution_count": null,
      "id": "25",
      "metadata": {
        "id": "25"
      },
      "outputs": [],
      "source": [
        "##### row 9\n",
        "r = 9\n",
        "if scan_data.assay == 'SD4':\n",
        "    current_list = rows_names_list[r]\n",
        "else:\n",
        "    current_list = print(current_list)\n",
        "\n",
        "# start_over = True\n",
        "\n",
        "if not start_over:\n",
        "    # ClassesFunctions.save_current_data_obj(file_name=input_file_name, path=path)\n",
        "    ClassesFunctions.do_final_results_plot(file_name=input_file_name, block_ids_list=current_list, fig_size=fig_size, do_plot=plot_figures)\n",
        "\n",
        "else:\n",
        "    ClassesFunctions.edit_multiple_blocks(\n",
        "        current_list, file_name=input_file_name, init_template_id=test_ind, correct_N=N,\n",
        "        debug=0, debug_blocks=[''], debug_clusters=[], fig_size=fig_size,\n",
        "        move_whole_block_match={f'r{r}c0': [0, 0], f'r{r}c1': [0, 0], f'r{r}c2': [-2, 45], f'r{r}c3': [0, 0]},\n",
        "        # redo_circle_finding_for_blocks_or_clusters=['r0c3'],\n",
        "        preprocess_params=scan_data.preprocess_params, plot_before_after=0,\n",
        "        manual_spot_edit_dict={\n",
        "             403:['del'],\n",
        "            # 404:['del spot6,4,2','move all 50 u'],\n",
        "            404:['del'],\n",
        "            420:['del'],\n",
        "            405:['del'],\n",
        "            # 409:['del'],\n",
        "            # 411:['del spot0'],\n",
        "            417:['del'],\n",
        "        })\n"
      ]
    },
    {
      "cell_type": "code",
      "execution_count": null,
      "id": "26",
      "metadata": {
        "id": "26"
      },
      "outputs": [],
      "source": [
        "##### row 10\n",
        "r = 10\n",
        "if scan_data.assay == 'SD4':\n",
        "    current_list = rows_names_list[r]\n",
        "else:\n",
        "    current_list = []\n",
        "print(current_list)\n",
        "\n",
        "# start_over = True\n",
        "\n",
        "if not start_over:\n",
        "    # ClassesFunctions.save_current_data_obj(file_name=input_file_name, path=path)\n",
        "    ClassesFunctions.do_final_results_plot(file_name=input_file_name, block_ids_list=current_list, fig_size=fig_size, do_plot=plot_figures)\n",
        "\n",
        "else:\n",
        "    ClassesFunctions.edit_multiple_blocks(\n",
        "        current_list, file_name=input_file_name, init_template_id=test_ind, correct_N=N,\n",
        "        debug=0, debug_blocks=[''], debug_clusters=[], fig_size=fig_size,\n",
        "        # move_whole_block_match={f'r{r}c0': [-100, 0], f'r{r}c1': [-70, 0], f'r{r}c2': [-50, 0], f'r{r}c3': [-50, 0]},\n",
        "        # redo_circle_finding_for_blocks_or_clusters=['r0c3'],\n",
        "        preprocess_params=scan_data.preprocess_params, plot_before_after=0,\n",
        "        manual_spot_edit_dict={\n",
        "        })"
      ]
    },
    {
      "cell_type": "code",
      "execution_count": null,
      "id": "27",
      "metadata": {
        "id": "27"
      },
      "outputs": [],
      "source": [
        "##### row 11\n",
        "r = 11\n",
        "if scan_data.assay == 'SD4':\n",
        "    current_list = rows_names_list[r]\n",
        "else:\n",
        "    current_list = []\n",
        "print(current_list)\n",
        "\n",
        "# start_over = True\n",
        "\n",
        "if not start_over:\n",
        "    # ClassesFunctions.save_current_data_obj(file_name=input_file_name, path=path)\n",
        "    ClassesFunctions.do_final_results_plot(file_name=input_file_name, block_ids_list=current_list, fig_size=fig_size, do_plot=plot_figures)\n",
        "\n",
        "else:\n",
        "    ClassesFunctions.edit_multiple_blocks(\n",
        "        current_list, file_name=input_file_name, init_template_id=test_ind, correct_N=N,\n",
        "        debug=0, debug_blocks=[''], debug_clusters=[], fig_size=fig_size,\n",
        "        move_whole_block_match={f'r{r}c0': [0, 0], f'r{r}c1': [0, 0], f'r{r}c2': [0, 0], f'r{r}c3': [0, 0]},\n",
        "        # redo_circle_finding_for_blocks_or_clusters=['r0c3'],\n",
        "        preprocess_params=scan_data.preprocess_params, plot_before_after=0,\n",
        "        manual_spot_edit_dict={\n",
        "        })"
      ]
    },
    {
      "cell_type": "code",
      "execution_count": null,
      "id": "28",
      "metadata": {
        "id": "28"
      },
      "outputs": [],
      "source": [
        "# b11 = scan_data.get_block('r11c0')\n",
        "# # b11.reset_block_start_end_coords((200,9900), [1200,11000], debug=False)\n",
        "# # b11.add_cropped_images()\n",
        "# b11.plot_block()\n",
        "# b11.__dict__"
      ]
    },
    {
      "cell_type": "code",
      "execution_count": null,
      "id": "29",
      "metadata": {
        "id": "29"
      },
      "outputs": [],
      "source": [
        "##### row 12\n",
        "r = 12\n",
        "if scan_data.assay == 'SD4':\n",
        "    current_list = rows_names_list[r]\n",
        "else:\n",
        "    current_list = []\n",
        "print(current_list)\n",
        "\n",
        "# start_over = True\n",
        "\n",
        "if not start_over:\n",
        "    # ClassesFunctions.save_current_data_obj(file_name=input_file_name, path=path)\n",
        "    ClassesFunctions.do_final_results_plot(file_name=input_file_name, block_ids_list=current_list, fig_size=fig_size, do_plot=plot_figures)\n",
        "\n",
        "else:\n",
        "    ClassesFunctions.edit_multiple_blocks(\n",
        "        current_list, file_name=input_file_name, init_template_id=test_ind, correct_N=N,\n",
        "        debug=0, debug_blocks=[''], debug_clusters=[], fig_size=fig_size,\n",
        "        # move_whole_block_match={f'r{r}c0': [-0, 0], f'r{r}c1': [-100, 0], f'r{r}c2': [-50, 0], f'r{r}c3': [-50, 0]},\n",
        "        # redo_circle_finding_for_blocks_or_clusters=['r0c3'],\n",
        "        preprocess_params=scan_data.preprocess_params, plot_before_after=0,\n",
        "        manual_spot_edit_dict={\n",
        "            # 759:['del'],755:['add 1 cluster below d=50'], 761:['add 1 cluster above d=50'],\n",
        "            555:['del']\n",
        "        })\n"
      ]
    },
    {
      "cell_type": "code",
      "execution_count": null,
      "id": "30",
      "metadata": {
        "id": "30"
      },
      "outputs": [],
      "source": [
        "##### row 13\n",
        "r = 13\n",
        "if scan_data.assay == 'SD4':\n",
        "    current_list = rows_names_list[r]\n",
        "else:\n",
        "    current_list = []\n",
        "print(current_list)\n",
        "\n",
        "# start_over = True\n",
        "\n",
        "if not start_over:\n",
        "    # ClassesFunctions.save_current_data_obj(file_name=input_file_name, path=path)\n",
        "    ClassesFunctions.do_final_results_plot(file_name=input_file_name, block_ids_list=current_list, fig_size=fig_size, do_plot=plot_figures)\n",
        "\n",
        "else:\n",
        "    ClassesFunctions.edit_multiple_blocks(\n",
        "        current_list, file_name=input_file_name, init_template_id=test_ind, correct_N=N,\n",
        "        debug=0, debug_blocks=[''], debug_clusters=[], fig_size=fig_size,\n",
        "        # move_whole_block_match={f'r{r}c0': [-0, 0], f'r{r}c1': [-100, 0], f'r{r}c2': [-50, 0], f'r{r}c3': [-50, 0]},\n",
        "        # redo_circle_finding_for_blocks_or_clusters=['r0c3'],\n",
        "        preprocess_params=scan_data.preprocess_params, plot_before_after=0,\n",
        "        manual_spot_edit_dict={\n",
        "            569:['del'], 567:['del spot3,2,1,0'], 581:['move spot-1 10 l']\n",
        "        })\n"
      ]
    },
    {
      "cell_type": "code",
      "execution_count": null,
      "id": "31",
      "metadata": {
        "id": "31"
      },
      "outputs": [],
      "source": [
        "##### row 14\n",
        "r = 14\n",
        "if scan_data.assay == 'SD4':\n",
        "    current_list = rows_names_list[r]\n",
        "else:\n",
        "    current_list = []\n",
        "print(current_list)\n",
        "\n",
        "# start_over = True\n",
        "\n",
        "if not start_over:\n",
        "    # ClassesFunctions.save_current_data_obj(file_name=input_file_name, path=path)\n",
        "    ClassesFunctions.do_final_results_plot(file_name=input_file_name, block_ids_list=current_list, fig_size=fig_size, do_plot=plot_figures)\n",
        "\n",
        "else:\n",
        "    ClassesFunctions.edit_multiple_blocks(\n",
        "        current_list, file_name=input_file_name, init_template_id=test_ind, correct_N=N,\n",
        "        debug=0, debug_blocks=[''], debug_clusters=[], fig_size=fig_size,\n",
        "        # move_whole_block_match={f'r{r}c0': [-0, 0], f'r{r}c1': [-100, 0], f'r{r}c2': [-50, 0], f'r{r}c3': [-50, 0]},\n",
        "        # redo_circle_finding_for_blocks_or_clusters=['r0c3'],\n",
        "        preprocess_params=scan_data.preprocess_params, plot_before_after=0,\n",
        "        manual_spot_edit_dict={\n",
        "            615:['del spot11,9,7,5,3,1,0']\n",
        "        })\n"
      ]
    },
    {
      "cell_type": "code",
      "execution_count": null,
      "id": "32",
      "metadata": {
        "id": "32"
      },
      "outputs": [],
      "source": [
        "# scan_data.get_block('r15c0').update_block_start_end_from_clusters_min_max()"
      ]
    },
    {
      "cell_type": "code",
      "execution_count": null,
      "id": "33",
      "metadata": {
        "id": "33"
      },
      "outputs": [],
      "source": [
        "##### row 15\n",
        "r = 15\n",
        "if scan_data.assay == 'SD4':\n",
        "    current_list = rows_names_list[r]\n",
        "else:\n",
        "    current_list = []\n",
        "print(current_list)\n",
        "\n",
        "# start_over = True\n",
        "\n",
        "if not start_over:\n",
        "    # ClassesFunctions.save_current_data_obj(file_name=input_file_name, path=path)\n",
        "    ClassesFunctions.do_final_results_plot(file_name=input_file_name, block_ids_list=current_list, fig_size=fig_size, do_plot=plot_figures)\n",
        "\n",
        "else:\n",
        "    ClassesFunctions.edit_multiple_blocks(\n",
        "        current_list, file_name=input_file_name, init_template_id=test_ind, correct_N=N,\n",
        "        debug=0, debug_blocks=[''], debug_clusters=[], fig_size=fig_size,\n",
        "        # move_whole_block_match={f'r{r}c0': [-50, -100], f'r{r}c1': [0, -10], f'r{r}c2': [0, 0], f'r{r}c3': [0, 0]},\n",
        "        # redo_circle_finding_for_blocks_or_clusters=['r0c3'],\n",
        "        preprocess_params=scan_data.preprocess_params, plot_before_after=0,\n",
        "        manual_spot_edit_dict={\n",
        "            # 780:['del spot11,9,7,5,3,1,0']\n",
        "        })\n"
      ]
    },
    {
      "cell_type": "code",
      "execution_count": null,
      "id": "34",
      "metadata": {
        "id": "34"
      },
      "outputs": [],
      "source": [
        "path, input_file_name"
      ]
    },
    {
      "cell_type": "code",
      "execution_count": null,
      "id": "35",
      "metadata": {
        "id": "35"
      },
      "outputs": [],
      "source": [
        "ClassesFunctions.save_current_data_obj(file_name=input_file_name, path=path)\n"
      ]
    },
    {
      "cell_type": "code",
      "execution_count": null,
      "id": "36",
      "metadata": {
        "id": "36"
      },
      "outputs": [],
      "source": [
        "## DOSE RESPONSE\n",
        "## Additional test info and labeling\n",
        "# scan_data = ScanDataObj.get_scan_data(file_name=input_file_name)\n",
        "# assuming scan_data.assay =='SD4':\n",
        "# curve_num_points = 7\n",
        "# num_rep = 3\n",
        "# num_blank_rows_at_bottom = 1\n",
        "#\n",
        "# start_Ag_conc = 250\n",
        "# dilution_factor = 2\n",
        "\n",
        "# if curve_num_points == 4:\n",
        "#     rows_info = {\n",
        "#         'r0,2,4,6': {'Ag': 'WT'},\n",
        "#         'r1,3,5,7': {'Ag': 'WT'},\n",
        "#         'r8,10,12,14': {'Ag': 'Omicron'},\n",
        "#         'r9,11,13,15': {'Ag': 'Omicron'},\n",
        "#     }\n",
        "#     cols_info = {\n",
        "#         'col0': {'dAb': '34@1.5'},\n",
        "#         'col1': {'dAb': '35@1.5'},\n",
        "#         'col2': {'dAb': '34@1'},\n",
        "#         'col3': {'dAb': '35@1'},\n",
        "#     }\n",
        "# else:\n",
        "#     rows_info, cols_info = {}, {}\n",
        "\n",
        "#------\n",
        "# blocks_info = {}\n",
        "# for rows_ids, ag_dict in rows_info.items():\n",
        "#     r_list = [int(x) for x in re.findall(r'\\d+', rows_ids)]\n",
        "#     if len(r_list) != curve_num_points:\n",
        "#         print('WTF!!!')\n",
        "#\n",
        "#     for col, dAb_dict in cols_info.items():\n",
        "#         c = int(re.findall(r'\\d+', col)[0])\n",
        "#\n",
        "#         point_counter = 0\n",
        "#         for r in r_list:\n",
        "#             block_id = f'r{r}c{c}'\n",
        "#             block = scan_data.get_block(block_id)\n",
        "#             block.dAb_label = dAb_dict['dAb']\n",
        "#             block.target = ag_dict['Ag']\n",
        "#             block.Ag_conc = start_Ag_conc / (dilution_factor ** point_counter)\n",
        "#             block.add_names_to_clusters(debug=1)\n",
        "#             print(f'{block.block_id} - {block.target}@{block.Ag_conc} - {block.dAb_label}')\n",
        "#             point_counter += 1\n",
        "\n",
        "# def add_labels(assay_info_dict,debug=False):\n",
        "#     blank_rows = [scan_data.block_nrow - x - 1 for x in range(num_blank_rows_at_bottom)]\n",
        "#     CommonFunctions.debug_report(f'blank_rows are {blank_rows}',debug)\n",
        "#     for start_block_id, cond_dict in assay_info_dict.items():\n",
        "#         start_block = scan_data.get_block(start_block_id)\n",
        "#\n",
        "#         for n in range(1,curve_num_points):\n",
        "#             new_r = start_block.row_number + n\n",
        "#             new_block = scan_data.get_block(f'r{new_r}c{start_block.col_number}')\n",
        "#             new_block.dAb_label = cond_dict['dAb']\n",
        "#             new_block.target = cond_dict['Ag']\n",
        "#             new_block.Ag_conc = start_Ag_conc / dilution_factor ** n if new_r not in blank_rows else 0\n",
        "#             new_block.add_names_to_clusters(debug=debug)\n",
        "#             print(f'\\t{new_block.block_id} - {new_block.target}@{new_block.Ag_conc}')\n",
        "#\n",
        "# add_labels(assay_info_dict=assay_info, debug=0)\n",
        "\n"
      ]
    },
    {
      "cell_type": "code",
      "execution_count": null,
      "id": "37",
      "metadata": {
        "id": "37"
      },
      "outputs": [],
      "source": [
        "# EXPERIMENT #1: Screening with secondary antibodies\n",
        "scan_data = ScanDataObj.get_scan_data(file_name=input_file_name)\n",
        "\n",
        "scan_data.cAb_names = ['JN','OX','EG','gamma','Delta_o','Beta_o','BA','kappa','Omicron_o','Eta','Omicron','Delta','WT','Beta'] # row by row, left to right\n",
        "\n",
        "row_labels = ['CovAb1','CovAb31','CovAb11','CovAb56','CovAb58','CovAb69','CovAb70','Blank',]\n",
        "for r in range(8):\n",
        "    row_label = row_labels[r]\n",
        "    for c in range(3):\n",
        "        block_id = f'r{r}c{c}'\n",
        "        block = scan_data.get_block(block_id)\n",
        "        block.dAb_label = row_label\n",
        "        block.target = 'N/A'\n",
        "        block.Ag_conc = 500\n",
        "        block.add_names_to_clusters(debug=0)\n",
        "        print(f'{block.block_id} - {block.target}@{block.Ag_conc} - {block.dAb_label}')\n",
        "\n"
      ]
    },
    {
      "cell_type": "code",
      "execution_count": null,
      "id": "38",
      "metadata": {
        "id": "38"
      },
      "outputs": [],
      "source": [
        "input_file_name"
      ]
    },
    {
      "cell_type": "code",
      "execution_count": null,
      "id": "39",
      "metadata": {
        "id": "39"
      },
      "outputs": [],
      "source": [
        "## for 05082025 slide use this, use this but otherwise comment it out.\n",
        "\n",
        "custom_naming = {\n",
        "    'r0c0': 25, 'r0c1': 27, 'r0c2': 26,\n",
        "    'r1c0': 26, 'r1c1': 'B', 'r1c2': 28,\n",
        "    'r2c0': 27, 'r2c1': 25, 'r2c2': 30,\n",
        "    'r3c0': 'B', 'r3c1': 29, 'r3c2': 36,\n",
        "    'r4c0': 28, 'r4c1': 36, 'r4c2': 25,\n",
        "    'r5c0': 30, 'r5c1': 26, 'r5c2': 29,\n",
        "    'r6c0': 36, 'r6c1': 30, 'r6c2': 'B',\n",
        "    'r7c0': 29, 'r7c1': 28, 'r7c2': 27,\n",
        "}\n",
        "\n",
        "for block_id, name in custom_naming.items()\n",
        "    block = scan_data.get_block(block_id)\n",
        "    if name == 'B':\n",
        "        block.dAb_label = f'Blank'\n",
        "        continue\n",
        "    block.dAb_label = f'CovAb{name}'"
      ]
    },
    {
      "cell_type": "code",
      "execution_count": null,
      "id": "40",
      "metadata": {
        "id": "40"
      },
      "outputs": [],
      "source": [
        "scan_data.get_block('r1c1').plot_block(description='full_report')\n"
      ]
    },
    {
      "cell_type": "code",
      "execution_count": null,
      "id": "41",
      "metadata": {
        "id": "41"
      },
      "outputs": [],
      "source": [
        "# ClassesFunctions.save_dicts_in_pickle(path=path)"
      ]
    },
    {
      "cell_type": "code",
      "execution_count": null,
      "id": "42",
      "metadata": {
        "id": "42"
      },
      "outputs": [],
      "source": [
        "# scan_data.get_block('r0c0').full_report()\n",
        "# print(scan_data.get_block('r0c0').full_report(return_str=1))\n",
        "# scan_data.get_block('r1c0').plot_block(description='cAb_names')"
      ]
    },
    {
      "cell_type": "code",
      "execution_count": null,
      "id": "43",
      "metadata": {
        "id": "43"
      },
      "outputs": [],
      "source": []
    },
    {
      "cell_type": "code",
      "execution_count": null,
      "id": "44",
      "metadata": {
        "id": "44"
      },
      "outputs": [],
      "source": [
        "out_dfs = []\n",
        "sigma1 = 2\n",
        "sigma2 = 1.7\n",
        "\n",
        "# this one goes row by row:\n",
        "for r in range(scan_data.block_nrow):\n",
        "    block_ids_list = rows_names_list[r]\n",
        "    out_df, counts = ClassesFunctions.measure_signal_of_blocks(\n",
        "        block_ids_list=block_ids_list,\n",
        "        file_name=input_file_name,\n",
        "        sigma1=sigma1,\n",
        "        sigma2=sigma2,\n",
        "        fg_inc_pixels=1,\n",
        "        margin_pixels=3,\n",
        "        bg_r=6,\n",
        "        debug=0,\n",
        "        debug_blocks_ids=[''],\n",
        "        plot_images=0,\n",
        "    )\n",
        "    out_dfs.append(out_df)\n",
        "#     total_counts += counts1\n",
        "\n"
      ]
    },
    {
      "cell_type": "code",
      "execution_count": null,
      "id": "45",
      "metadata": {
        "id": "45"
      },
      "outputs": [],
      "source": [
        "# path"
      ]
    },
    {
      "cell_type": "code",
      "execution_count": null,
      "id": "46",
      "metadata": {
        "id": "46"
      },
      "outputs": [],
      "source": [
        "# wanna see everything for clusterZ in rXcY:\n",
        "cAb = 'Delta_0'\n",
        "row_id = 4\n",
        "block_id = f'r{row_id}c0'\n",
        "df1 = out_dfs[row_id]\n",
        "df = df1[(df1['cAb_name']==cAb) & (df1['Block_ID']==block_id)]\n",
        "scan_data.get_block(block_id).plot_block(description='full_report', crop_to_mask=1)\n",
        "# print(df)\n",
        "df1"
      ]
    },
    {
      "cell_type": "code",
      "execution_count": null,
      "id": "47",
      "metadata": {
        "id": "47"
      },
      "outputs": [],
      "source": [
        "# formated_path"
      ]
    },
    {
      "cell_type": "code",
      "execution_count": null,
      "id": "48",
      "metadata": {
        "id": "48"
      },
      "outputs": [],
      "source": [
        "dosave=True\n",
        "formated_path = f'{path}/{input_file_name}_genepix_level'\n",
        "\n",
        "if dosave:\n",
        "    ClassesFunctions.save_current_data_obj(file_name=input_file_name, path=path)\n",
        "    intensities_df = pd.concat(out_dfs, ignore_index=True)\n",
        "    with open(formated_path+'.pickle', 'wb') as file:\n",
        "        pickle.dump(intensities_df, file)\n",
        "\n",
        "    intensities_writer = pd.ExcelWriter(formated_path + '.xlsx')\n",
        "    intensities_df.to_excel(intensities_writer, index=True)\n",
        "    intensities_writer.close()\n",
        "\n",
        "\n",
        "    print(f'saved intensities_df {intensities_df.shape}.')\n",
        "\n",
        "else:\n",
        "    with open(formated_path+'.pickle', 'rb') as file:\n",
        "        intensities_df = pickle.load(file)\n",
        "        print(f'loaded intensities_df {intensities_df.shape}')\n",
        "\n",
        "\n",
        "intensities_df"
      ]
    },
    {
      "cell_type": "code",
      "execution_count": null,
      "id": "49",
      "metadata": {
        "id": "49"
      },
      "outputs": [],
      "source": [
        "intensities_df[intensities_df['cAb_name']=='JN']"
      ]
    },
    {
      "cell_type": "code",
      "execution_count": null,
      "id": "50",
      "metadata": {
        "id": "50"
      },
      "outputs": [],
      "source": [
        "scan_data.get_block('r0c0').plot_block(description='full_report', fig_size=[4,4])\n"
      ]
    },
    {
      "cell_type": "code",
      "execution_count": null,
      "id": "51",
      "metadata": {
        "id": "51"
      },
      "outputs": [],
      "source": [
        "ag_test = 1\n",
        "grouped = intensities_df.groupby(['Block_ID', 'Row', 'Col', 'cAb_name', 'dAb_name'])['Average_F_B_PostProcess'].mean().reset_index()\n",
        "grouped = grouped.sort_values(by=['Row', 'Col'])\n",
        "grouped['abs_rep'] = grouped.apply(lambda x: f\"{x['dAb_name']}\" +\n",
        "                                           (\"\" if x['Col'] == 0 else \"_1\" if x['Col'] == 1 else \"_2\"), axis=1)\n",
        "\n",
        "grouped[['COV_Ab', 'SEC_Ab']] = grouped['dAb_name'].str.extract(r'([^_]+)_([^_]+)')\n",
        "\n",
        "grouped[grouped['cAb_name']=='JN']\n",
        "# grouped.columns\n",
        "\n"
      ]
    },
    {
      "cell_type": "code",
      "execution_count": null,
      "id": "52",
      "metadata": {
        "id": "52"
      },
      "outputs": [],
      "source": [
        "# import matplotlib.pyplot as plt\n",
        "# import seaborn as sns\n",
        "#\n",
        "# ags = sorted(grouped['cAb_name'].unique())\n",
        "# n_rows, n_cols = 3, 5\n",
        "#\n",
        "# fig, axes = plt.subplots(n_rows, n_cols, figsize=(n_cols * 3, n_rows * 3), constrained_layout=True)\n",
        "#\n",
        "# for ax, ag_val in zip(axes.flat, ags):\n",
        "#     subset = grouped[grouped['cAb_name'] == ag_val]\n",
        "#     pivot = subset.groupby(['COV_Ab', 'SEC_Ab'])['Average_F_B_PostProcess'].mean().unstack()/1000\n",
        "#\n",
        "#     sns.heatmap(pivot, annot=True, cmap='crest',ax=ax, cbar=False)\n",
        "#     ax.set_title(f'Ag: {ag_val}')\n",
        "#     ax.set_xlabel('SEC_Ab')\n",
        "#     ax.set_ylabel('COV_Ab')\n",
        "#\n",
        "# # Hide unused subplots if there are any\n",
        "# for ax in axes.flat[len(ags):]:\n",
        "#     ax.axis('off')\n",
        "#\n",
        "# plt.show()\n"
      ]
    },
    {
      "cell_type": "code",
      "execution_count": null,
      "id": "53",
      "metadata": {
        "id": "53"
      },
      "outputs": [],
      "source": [
        "# import matplotlib.pyplot as plt\n",
        "# import seaborn as sns\n",
        "#\n",
        "# pivot = grouped.groupby(['COV_Ab', 'SEC_Ab'])['Average_F_B_PostProcess'].mean().unstack()/1000\n",
        "#\n",
        "# plt.figure(figsize=(3,4))\n",
        "# sns.heatmap(pivot, annot=True, cmap=\"viridis\")\n",
        "# plt.title(f'Avg Heatmap')\n",
        "# plt.xlabel('SEC_Ab')\n",
        "# plt.ylabel('COV_Ab')\n",
        "# plt.tight_layout()\n",
        "# plt.show()\n",
        "#\n"
      ]
    },
    {
      "cell_type": "code",
      "execution_count": null,
      "id": "54",
      "metadata": {
        "id": "54"
      },
      "outputs": [],
      "source": [
        "# sheets_df = {}\n",
        "# for Ag, group in grouped.groupby('cAb_name'):\n",
        "#     print(Ag)\n",
        "#     sheet_name = f\"{Ag}\"\n",
        "#     filtered_group = group.copy()\n",
        "#     # print(filtered_group.columns)\n",
        "#     unique_reps = sorted(filtered_group['abs_rep'].unique())\n",
        "#     # print(f'unique_reps: {unique_reps}')\n",
        "#     filtered_group = filtered_group[filtered_group['abs_rep'].isin(unique_reps)]\n",
        "#     filtered_group.ainsert(0, 'Label', sheet_name)\n",
        "#     pivot_df = filtered_group.pivot_table(index=['Label'], columns=['abs_rep'],\n",
        "#                                  values='Average_F_B_PostProcess').sort_values(by=['Label'],ascending=False)\n",
        "#     pivot_df.reset_index(inplace=True)\n",
        "#     sheets_df[sheet_name] = pivot_df\n",
        "#\n",
        "# sheets_df['JN']"
      ]
    },
    {
      "cell_type": "code",
      "execution_count": null,
      "id": "55",
      "metadata": {
        "id": "55"
      },
      "outputs": [],
      "source": [
        "# grouped = intensities_df.groupby(['Ag_Conc.', 'Block_ID', 'Row', 'Col', 'target', 'cAb_name', 'dAb_name'])['Average_F_B_PostProcess'].mean().reset_index()\n",
        "# grouped = grouped.sort_values(by=['Row', 'Col'])\n",
        "#\n",
        "# # if num_rep == 2 and curve_num_points==4:\n",
        "# #     grouped['dAb_cAb_rep'] = grouped.apply(lambda x: f\"{x['dAb_name']}_{x['cAb_name']}\" +\n",
        "# #                                            (\"\" if x['Row'] % 2 == 0 else \"_2\"), axis=1)\n",
        "# # if ag_test:\n",
        "# #     grouped['ab_pair'] = grouped.apply(lambda x: f\"{x['dAb_name']}_{x['cAb_name']}\" +\n",
        "# #                                            (\"\" if x['Row'] % 2 == 0 else \"_2\"), axis=1)\n",
        "#\n",
        "#\n",
        "# grouped[grouped['cAb_name']=='JN']\n",
        "#\n"
      ]
    },
    {
      "cell_type": "code",
      "execution_count": null,
      "id": "56",
      "metadata": {
        "id": "56"
      },
      "outputs": [],
      "source": [
        "# grouped.groupby(['dAb_name', 'target']).head()"
      ]
    },
    {
      "cell_type": "code",
      "execution_count": null,
      "id": "57",
      "metadata": {
        "id": "57"
      },
      "outputs": [],
      "source": [
        "# sheets_df = {}\n",
        "# for (dAb, target), group in grouped.groupby(['dAb_name']):\n",
        "#     sheet_name = f\"{dAb}_{target}\"\n",
        "#     filtered_group = group.copy()\n",
        "#     print(filtered_group.columns)\n",
        "#     unique_reps = sorted(filtered_group['dAb_cAb_rep'].unique())\n",
        "#     filtered_group = filtered_group[filtered_group['dAb_cAb_rep'].isin(unique_reps)]\n",
        "#     filtered_group.insert(0, 'Label', sheet_name)\n",
        "#     pivot_df = filtered_group.pivot_table(index=['Label','Ag_Conc.'], columns=['dAb_cAb_rep'],\n",
        "#                                  values='Average_F_B_PostProcess').sort_values(by=['Label','Ag_Conc.'],ascending=False)\n",
        "#     pivot_df.reset_index(inplace=True)\n",
        "#     sheets_df[sheet_name] = pivot_df\n",
        "#\n",
        "# # sheets_df['34@1.5_WT']"
      ]
    },
    {
      "cell_type": "code",
      "execution_count": null,
      "id": "58",
      "metadata": {
        "id": "58"
      },
      "outputs": [],
      "source": [
        "# ClassesFunctions.save_current_data_obj(file_name=input_file_name, path=path)\n",
        "#\n",
        "# formated_path = f'{path}/{input_file_name}_summary'\n",
        "# summary_writer = pd.ExcelWriter(formated_path + '.xlsx')\n",
        "#\n",
        "# for sheet_name, sheet_df in sheets_df.items():\n",
        "#     sheet_df.to_excel(summary_writer, sheet_name=sheet_name, index=False)\n",
        "# summary_writer.close()\n",
        "#\n",
        "# with open(formated_path+'.pickle', 'wb') as file:\n",
        "#     pickle.dump(sheets_df, file)\n"
      ]
    },
    {
      "cell_type": "code",
      "execution_count": null,
      "id": "59",
      "metadata": {
        "id": "59"
      },
      "outputs": [],
      "source": [
        "\n",
        "filtered_group = grouped.copy()\n",
        "# print(filtered_group.columns)\n",
        "unique_reps = sorted(filtered_group['abs_rep'].unique())\n",
        "# print(f'unique_reps: {unique_reps}')\n",
        "filtered_group = filtered_group[filtered_group['abs_rep'].isin(unique_reps)]\n",
        "# filtered_group.insert(0, 'Ag', )\n",
        "pivot_df = filtered_group.pivot_table(index=['cAb_name'], columns=['abs_rep'],\n",
        "                             values='Average_F_B_PostProcess').sort_values(by=['cAb_name'],ascending=False)\n",
        "pivot_df"
      ]
    },
    {
      "cell_type": "code",
      "execution_count": null,
      "id": "60",
      "metadata": {
        "id": "60"
      },
      "outputs": [],
      "source": [
        "formated_path = f'{path}/{input_file_name}_summary'\n",
        "summary_writer = pd.ExcelWriter(formated_path + '.xlsx')\n",
        "pivot_df.to_excel(summary_writer, index=True)\n",
        "summary_writer.close()\n",
        "\n",
        "with open(formated_path+'.pickle', 'wb') as file:\n",
        "    pickle.dump(pivot_df, file)\n"
      ]
    },
    {
      "cell_type": "code",
      "execution_count": null,
      "id": "61",
      "metadata": {
        "id": "61"
      },
      "outputs": [],
      "source": [
        "# import matplotlib.pyplot as plt\n",
        "# import seaborn as sns\n",
        "# import pandas as pd\n",
        "#\n",
        "# def plot_dose_response_with_error(results_df):\n",
        "#     # Extract base names by removing \"_2\" suffix if present\n",
        "#     results_df['base_dAb_cAb_rep'] = results_df['dAb_cAb_rep'].str.replace('_2$', '', regex=True)\n",
        "#\n",
        "#     # Group by target, Ag_Conc., and base_dAb_cAb_rep to compute mean and std\n",
        "#     grouped_df = results_df.groupby(['target', 'Ag_Conc.', 'base_dAb_cAb_rep'])['Average_F_B_PostProcess'].agg(['mean', 'std']).reset_index()\n",
        "#\n",
        "#     # Plot each unique target\n",
        "#     plt.figure(figsize=(8, 6))\n",
        "#     sns.lineplot(data=grouped_df, x='Ag_Conc.', y='mean', hue='base_dAb_cAb_rep', style='target', marker='o')\n",
        "#     plt.errorbar(grouped_df['Ag_Conc.'], grouped_df['mean'], yerr=grouped_df['std'], fmt='o', alpha=0.5)\n",
        "#\n",
        "#     plt.xscale('log')  # Log scale if needed\n",
        "#     plt.xlabel(\"Antigen Concentration\")\n",
        "#     plt.ylabel(\"Response (Fluorescence)\")\n",
        "#     plt.title(\"Dose-Response Curves with Error Bars\")\n",
        "#     plt.legend(title=\"dAb_cAb_rep\")\n",
        "#     plt.show()\n",
        "#\n",
        "# # Example usage:\n",
        "# plot_dose_response_with_error(group)\n"
      ]
    },
    {
      "cell_type": "code",
      "execution_count": null,
      "id": "62",
      "metadata": {
        "id": "62"
      },
      "outputs": [],
      "source": [
        "\n",
        "\n"
      ]
    },
    {
      "cell_type": "code",
      "execution_count": null,
      "id": "63",
      "metadata": {
        "id": "63"
      },
      "outputs": [],
      "source": [
        "# reverse the process to get image from pickle\n",
        "\n",
        "pickle_path = f'{path}/{input_file_name}_genepix_level.pickle'\n",
        "\n",
        "with open(pickle_path, 'rb') as f:\n",
        "    df = pickle.load(f)\n",
        "\n",
        "df.head()"
      ]
    },
    {
      "cell_type": "code",
      "execution_count": null,
      "id": "64",
      "metadata": {
        "id": "64"
      },
      "outputs": [],
      "source": [
        "## gets coordinates of the spots in a specific cluster\n",
        "\n",
        "cluster_num = 1244\n",
        "cluster_df = df[df[\"Cluster_ID\"] == cluster_num]\n",
        "\n",
        "block_id = cluster_df[\"Block_ID\"].values[0]\n",
        "dAb_name = cluster_df[\"dAb_name\"].values[0]\n",
        "target = cluster_df[\"target\"].values[0]\n",
        "ag_conc = cluster_df[\"Ag_Conc.\"].values[0]\n",
        "\n",
        "scan_data = ScanDataObj.get_scan_data(file_name=input_file_name)\n",
        "block = scan_data.get_block(block_id)\n",
        "\n",
        "cluster = scan_data.get_cluster(cluster_num)\n",
        "\n",
        "# spot coordinates\n",
        "spots = cluster.spots_coords_list  # (x, y, radius)"
      ]
    },
    {
      "cell_type": "code",
      "execution_count": null,
      "id": "65",
      "metadata": {
        "id": "65"
      },
      "outputs": [],
      "source": [
        "## cropping the image\n",
        "\n",
        "coords = np.array(spots)  # spots = [(x1, y1, r1), (x2, y2, r2), ...]\n",
        "x_vals = coords[:, 0]\n",
        "y_vals = coords[:, 1]\n",
        "r_vals = coords[:, 2]\n",
        "\n",
        "extra = 20 # leaves extra room around spots\n",
        "x_min = int(x_vals.min() - r_vals.max() - extra)\n",
        "x_max = int(x_vals.max() + r_vals.max() + extra)\n",
        "y_min = int(y_vals.min() - r_vals.max() - extra)\n",
        "y_max = int(y_vals.max() + r_vals.max() + extra)\n",
        "\n",
        "x_min, x_max = max(x_min, 0), min(x_max, image.shape[1])\n",
        "y_min, y_max = max(y_min, 0), min(y_max, image.shape[0])\n",
        "\n",
        "cropped_img = image[y_min:y_max, x_min:x_max]\n",
        "\n",
        "import cv2\n",
        "import matplotlib.pyplot as plt\n",
        "\n",
        "for x, y, r in spots:\n",
        "    cv2.circle(cropped_img, (int(x - x_min), int(y - y_min)), int(r), (0, 255, 0), 2)\n",
        "\n",
        "plt.imshow(cropped_img, cmap='gray')\n",
        "plt.title(f\"{block_id} - {target}@{ag_conc} - {dAb_name}\")\n",
        "plt.axis(\"off\")\n",
        "plt.show()\n"
      ]
    },
    {
      "cell_type": "code",
      "execution_count": null,
      "id": "66",
      "metadata": {
        "id": "66"
      },
      "outputs": [],
      "source": []
    },
    {
      "cell_type": "code",
      "execution_count": null,
      "id": "67",
      "metadata": {
        "id": "67"
      },
      "outputs": [],
      "source": []
    },
    {
      "cell_type": "code",
      "execution_count": null,
      "id": "68",
      "metadata": {
        "id": "68"
      },
      "outputs": [],
      "source": []
    },
    {
      "cell_type": "code",
      "execution_count": null,
      "id": "69",
      "metadata": {
        "id": "69"
      },
      "outputs": [],
      "source": []
    },
    {
      "cell_type": "code",
      "execution_count": null,
      "id": "70",
      "metadata": {
        "id": "70"
      },
      "outputs": [],
      "source": []
    },
    {
      "cell_type": "code",
      "execution_count": null,
      "id": "71",
      "metadata": {
        "id": "71"
      },
      "outputs": [],
      "source": []
    },
    {
      "cell_type": "code",
      "execution_count": null,
      "id": "72",
      "metadata": {
        "id": "72"
      },
      "outputs": [],
      "source": []
    },
    {
      "cell_type": "code",
      "execution_count": null,
      "id": "73",
      "metadata": {
        "id": "73"
      },
      "outputs": [],
      "source": []
    }
  ],
  "metadata": {
    "kernelspec": {
      "display_name": ".venv",
      "language": "python",
      "name": "python3"
    },
    "language_info": {
      "codemirror_mode": {
        "name": "ipython",
        "version": 3
      },
      "file_extension": ".py",
      "mimetype": "text/x-python",
      "name": "python",
      "nbconvert_exporter": "python",
      "pygments_lexer": "ipython3",
      "version": "3.12.10"
    },
    "colab": {
      "provenance": []
    }
  },
  "nbformat": 4,
  "nbformat_minor": 5
}